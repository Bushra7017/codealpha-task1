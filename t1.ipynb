{
 "cells": [
  {
   "cell_type": "code",
   "execution_count": null,
   "id": "e25bded6-4c77-4432-90ac-169b38ef783a",
   "metadata": {},
   "outputs": [
    {
     "name": "stdout",
     "output_type": "stream",
     "text": [
      "Welcome to Hangman!\n",
      "\n",
      "Word to guess: _ _ _ _ _ _ _\n",
      "Incorrect guesses: \n",
      "Remaining incorrect guesses: 6\n"
     ]
    },
    {
     "name": "stdin",
     "output_type": "stream",
     "text": [
      "Guess a letter:  a\n"
     ]
    },
    {
     "name": "stdout",
     "output_type": "stream",
     "text": [
      "Good guess! 'a' is in the word.\n",
      "\n",
      "Word to guess: _ a _ _ _ a _\n",
      "Incorrect guesses: \n",
      "Remaining incorrect guesses: 6\n"
     ]
    },
    {
     "name": "stdin",
     "output_type": "stream",
     "text": [
      "Guess a letter:  b\n"
     ]
    },
    {
     "name": "stdout",
     "output_type": "stream",
     "text": [
      "Sorry! 'b' is not in the word.\n",
      "\n",
      "Word to guess: _ a _ _ _ a _\n",
      "Incorrect guesses: b\n",
      "Remaining incorrect guesses: 5\n"
     ]
    }
   ],
   "source": [
    "import random\n",
    "\n",
    "\n",
    "words_list = ['python', 'developer', 'hangman', 'challenge', 'programming', 'algorithm']\n",
    "\n",
    "def get_random_word(words):\n",
    "    return random.choice(words)\n",
    "\n",
    "\n",
    "def display_word(word, guessed_letters):\n",
    "    return ' '.join([letter if letter in guessed_letters else '_' for letter in word])\n",
    "\n",
    "\n",
    "def play_hangman():\n",
    "    word_to_guess = get_random_word(words_list)\n",
    "    guessed_letters = set()\n",
    "    incorrect_guesses = set()\n",
    "    max_incorrect_guesses = 6  # Limit on incorrect guesses\n",
    "    \n",
    "    print(\"Welcome to Hangman!\")\n",
    "    \n",
    "    while len(incorrect_guesses) < max_incorrect_guesses:\n",
    "        print(f\"\\nWord to guess: {display_word(word_to_guess, guessed_letters)}\")\n",
    "        print(f\"Incorrect guesses: {', '.join(incorrect_guesses)}\")\n",
    "        print(f\"Remaining incorrect guesses: {max_incorrect_guesses - len(incorrect_guesses)}\")\n",
    "        \n",
    "        guess = input(\"Guess a letter: \").lower()\n",
    "        \n",
    "        if not guess.isalpha() or len(guess) != 1:\n",
    "            print(\"Please enter a single letter.\")\n",
    "            continue\n",
    "        \n",
    "        if guess in guessed_letters or guess in incorrect_guesses:\n",
    "            print(\"You have already guessed that letter.\")\n",
    "            continue\n",
    "        \n",
    "        if guess in word_to_guess:\n",
    "            guessed_letters.add(guess)\n",
    "            print(f\"Good guess! '{guess}' is in the word.\")\n",
    "        else:\n",
    "            incorrect_guesses.add(guess)\n",
    "            print(f\"Sorry! '{guess}' is not in the word.\")\n",
    "        \n",
    "        if all(letter in guessed_letters for letter in word_to_guess):\n",
    "            print(f\"\\nCongratulations! You've guessed the word: {word_to_guess}\")\n",
    "            break\n",
    "    else:\n",
    "        print(f\"\\nGame Over! The correct word was: {word_to_guess}\")\n",
    "\n",
    "\n",
    "if __name__ == \"__main__\":\n",
    "    play_hangman()  \n"
   ]
  },
  {
   "cell_type": "code",
   "execution_count": null,
   "id": "ebbcd4de-7c90-4529-ba43-ca9e4be240e9",
   "metadata": {},
   "outputs": [],
   "source": []
  }
 ],
 "metadata": {
  "kernelspec": {
   "display_name": "Python 3 (ipykernel)",
   "language": "python",
   "name": "python3"
  },
  "language_info": {
   "codemirror_mode": {
    "name": "ipython",
    "version": 3
   },
   "file_extension": ".py",
   "mimetype": "text/x-python",
   "name": "python",
   "nbconvert_exporter": "python",
   "pygments_lexer": "ipython3",
   "version": "3.12.4"
  }
 },
 "nbformat": 4,
 "nbformat_minor": 5
}
